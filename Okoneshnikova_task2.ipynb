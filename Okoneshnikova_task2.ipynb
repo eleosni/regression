{
 "cells": [
  {
   "cell_type": "code",
   "execution_count": 106,
   "metadata": {},
   "outputs": [
    {
     "name": "stdout",
     "output_type": "stream",
     "text": [
      " 1) temp                           0.416319\n",
      " 2) DMC                            0.132569\n",
      " 3) RH                             0.088106\n",
      " 4) ISI                            0.075632\n",
      " 5) FFMC                           0.069701\n",
      " 6) wind                           0.056796\n",
      " 7) DC                             0.055511\n",
      " 8) Y                              0.044505\n",
      " 9) day                            0.027999\n",
      "10) X                              0.026433\n",
      "11) month                          0.006413\n",
      "12) rain                           0.000017\n"
     ]
    },
    {
     "data": {
      "image/png": "[encoded data removed]",
      "text/plain": [
       "<Figure size 432x288 with 1 Axes>"
      ]
     },
     "metadata": {
      "needs_background": "light"
     },
     "output_type": "display_data"
    },
    {
     "name": "stdout",
     "output_type": "stream",
     "text": [
      "\n",
      "Random Forest Model Estimation:\n",
      "R2_score:  0.0\n",
      "MSE:  5826.33\n",
      "MAE:  25.28\n",
      "\n",
      "Linear Model Estimation:\n",
      "R2_score:  0.018\n",
      "MSE:  5721.27\n",
      "MAE:  22.63\n",
      "\n",
      "Polynomial Model Estimation:\n",
      "R2_score:  -0.005\n",
      "MSE:  5855.31\n",
      "MAE:  24.97\n"
     ]
    }
   ],
   "source": [
    "import datetime\n",
    "import pandas\n",
    "import matplotlib.pyplot as plt\n",
    "from sklearn.ensemble import RandomForestRegressor\n",
    "from sklearn.model_selection import train_test_split\n",
    "from sklearn.linear_model import LinearRegression\n",
    "from sklearn.preprocessing import PolynomialFeatures\n",
    "from sklearn.preprocessing import StandardScaler\n",
    "from sklearn.metrics import r2_score\n",
    "from sklearn.metrics import mean_squared_error\n",
    "from sklearn.metrics import mean_absolute_error\n",
    "\n",
    "N_ESTIMATORS = 52\n",
    "TEST_SIZE = 0.2\n",
    "R2_ACCURACY = 3\n",
    "MSE_ACCURACY = 2\n",
    "MAE_ACCURACY = 2\n",
    "\n",
    "months = ['jan','feb','mar','apr','may','jun','jul','aug','sep','oct','nov','dec']\n",
    "days = ['mon','tue','wed','thu','fri','sat','sun']\n",
    "\n",
    "\n",
    "def get_month_number(month_name):\n",
    "    return months.index(month_name)\n",
    "\n",
    "def get_day_number(day_name):\n",
    "    return days.index(day_name)\n",
    "\n",
    "X = pandas.read_csv('forestfires.csv', ',')  # load rows from CSV file\n",
    "\n",
    "Y = X['area']\n",
    "X.drop(columns=['area'], inplace=True)\n",
    "X['month'] = X['month'].apply(get_month_number) # transform months to integers from 0 to 11\n",
    "X['day'] = X['day'].apply(get_day_number) # transform days to integers from 0 to 6\n",
    "\n",
    "    # Calculating features importances\n",
    "    feat_labels = X.columns[0:]\n",
    "    forest = RandomForestRegressor(n_estimators=N_ESTIMATORS, random_state=1)\n",
    "    #forest = RandomForestRegressor()\n",
    "    forest.fit(X, Y)\n",
    "    importances = forest.feature_importances_\n",
    "    indices = numpy.argsort(importances)[::-1]\n",
    "    for f in range(X.shape[1]):\n",
    "        print(\"%2d) %-*s %f\" % (f+1, 30, feat_labels[indices[f]], importances[indices[f]]))\n",
    "    # Show features importances\n",
    "    plt.title(\"Feature's Importances\")\n",
    "    plt.bar(range(X.shape[1]), importances[indices], align='center')\n",
    "    plt.xticks(range(X.shape[1]), feat_labels[indices], rotation=90)\n",
    "    plt.xlim([-1, X.shape[1]])\n",
    "    plt.tight_layout()\n",
    "    plt.show()\n",
    "\n",
    "X.drop(columns=['month', 'rain'], inplace=True) # remove two least significant features\n",
    "\n",
    "X_train, X_test, y_train, y_test =  train_test_split(X, Y, test_size=TEST_SIZE, random_state=1)\n",
    "forestRegressor = RandomForestRegressor(n_estimators=N_ESTIMATORS, max_depth = 20, random_state=1)\n",
    "forestRegressor.fit(X_train, y_train)\n",
    "y_pred_forest = forestRegressor.predict(X_test)\n",
    "\n",
    "print('\\nRandom Forest Model Estimation:')\n",
    "print('R2_score: ', round(r2_score(y_test, y_pred_forest), R2_ACCURACY))\n",
    "print('MSE: ', round(mean_squared_error(y_test, y_pred_forest), MSE_ACCURACY))\n",
    "print('MAE: ', round(mean_absolute_error(y_test, y_pred_forest), MAE_ACCURACY))\n",
    "\n",
    "standardScaler = StandardScaler()\n",
    "standardScaler.fit(X.values)\n",
    "X_train = standardScaler.transform(X_train)\n",
    "X_test = standardScaler.transform(X_test)\n",
    "\n",
    "linearModel = LinearRegression()\n",
    "linearModel.fit(X_train, y_train)\n",
    "y_pred_linear = linearModel.predict(X_test)\n",
    "\n",
    "print('\\nLinear Model Estimation:')\n",
    "print('R2_score: ', round(r2_score(y_test, y_pred_linear), R2_ACCURACY))\n",
    "print('MSE: ', round(mean_squared_error(y_test, y_pred_linear), MSE_ACCURACY))\n",
    "print('MAE: ', round(mean_absolute_error(y_test, y_pred_linear), MAE_ACCURACY))\n",
    "\n",
    "quadratic = PolynomialFeatures(degree=2, interaction_only=True, include_bias=True)\n",
    "X_train_quad = quadratic.fit_transform(X_train)\n",
    "quadModel = LinearRegression()\n",
    "quadModel.fit(X_train_quad, y_train)\n",
    "\n",
    "X_test_quad = quadratic.fit_transform(X_test)\n",
    "y_pred_quad = quadModel.predict(X_test_quad)\n",
    "\n",
    "print('\\nPolynomial Model Estimation:')\n",
    "print('R2_score: ', round(r2_score(y_test, y_pred_quad), R2_ACCURACY))\n",
    "print('MSE: ', round(mean_squared_error(y_test, y_pred_quad), MSE_ACCURACY))\n",
    "print('MAE: ', round(mean_absolute_error(y_test, y_pred_quad), MAE_ACCURACY))"
   ]
  },
  {
   "cell_type": "code",
   "execution_count": 101,
   "metadata": {},
   "outputs": [],
   "source": [
    "# Отчёт:\n",
    "#\n",
    "# Наилучшей моделью при дефолтных значениях параметров является Линейный регрессор.\n",
    "# Наилучшей точности RandomForestRegressor достигает при количестве деревьев, равному 52 и max_depth = 20.\n",
    "# Модель LinearRegression достигает наилучшей точности при дефолтных значениях параметров.\n",
    "# Полиномиальная регрессионная модель достигает наилучшей точности при следующих значениях параметров: degree=2, interaction_only=True, include_bias=True\n",
    "# Таким образом наилучшей моделью для данной задачи является регрессор, основанный на случайном лесе."
   ]
  }
 ],
 "metadata": {
  "kernelspec": {
   "display_name": "Python 3",
   "language": "python",
   "name": "python3"
  },
  "language_info": {
   "codemirror_mode": {
    "name": "ipython",
    "version": 3
   },
   "file_extension": ".py",
   "mimetype": "text/x-python",
   "name": "python",
   "nbconvert_exporter": "python",
   "pygments_lexer": "ipython3",
   "version": "3.7.6"
  }
 },
 "nbformat": 4,
 "nbformat_minor": 4
}
